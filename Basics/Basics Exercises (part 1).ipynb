{
 "cells": [
  {
   "cell_type": "markdown",
   "id": "fa9703be",
   "metadata": {},
   "source": [
    "## Some combined Basic Exercises from w3source"
   ]
  },
  {
   "cell_type": "code",
   "execution_count": 1,
   "id": "e9089dd6",
   "metadata": {
    "ExecuteTime": {
     "end_time": "2021-10-17T14:05:45.637870Z",
     "start_time": "2021-10-17T14:05:45.447598Z"
    }
   },
   "outputs": [],
   "source": [
    "import numpy as np"
   ]
  },
  {
   "cell_type": "code",
   "execution_count": 26,
   "id": "69505aaa",
   "metadata": {
    "ExecuteTime": {
     "end_time": "2021-10-17T16:41:54.041207Z",
     "start_time": "2021-10-17T16:41:54.028025Z"
    }
   },
   "outputs": [
    {
     "name": "stdout",
     "output_type": "stream",
     "text": [
      "Array: [1 2 3 4]\n",
      "Are there zero numbers in the array? True\n",
      "---------------------------------------------------------------------------\n",
      "Array: [0 1 2 3]\n",
      "Are there zero numbers in the array? False\n"
     ]
    }
   ],
   "source": [
    "#NumPy program to test whether none of the elements of a given array is zero\n",
    "n1 = np.array([1,2,3,4])\n",
    "print(f\"Array: {n1}\")\n",
    "print(f\"Are there zero numbers in the array? {np.all(n1)}\")\n",
    "print('-'*75)\n",
    "n2 = np.array([0,1,2,3])\n",
    "print(f\"Array: {n2}\")\n",
    "print(f\"Are there zero numbers in the array? {np.all(n2)}\")"
   ]
  },
  {
   "cell_type": "code",
   "execution_count": 27,
   "id": "c7b425f9",
   "metadata": {
    "ExecuteTime": {
     "end_time": "2021-10-17T16:42:23.099816Z",
     "start_time": "2021-10-17T16:42:23.090628Z"
    }
   },
   "outputs": [
    {
     "name": "stdout",
     "output_type": "stream",
     "text": [
      "Array: [-1. 15. inf  0.  1. nan]\n",
      "Test element-wise for positive or negative infinity: [False False  True False False False]\n"
     ]
    }
   ],
   "source": [
    "# NumPy program to test element-wise for positive or negative infinity\n",
    "n1 = np.array([-1, 15, np.inf, 0, 1, np.nan])\n",
    "print(f\"Array: {n1}\")\n",
    "print(f\"Test element-wise for positive or negative infinity: {np.isinf(n1)}\")"
   ]
  },
  {
   "cell_type": "code",
   "execution_count": 28,
   "id": "d9693f98",
   "metadata": {
    "ExecuteTime": {
     "end_time": "2021-10-17T16:42:55.684893Z",
     "start_time": "2021-10-17T16:42:55.671886Z"
    }
   },
   "outputs": [
    {
     "name": "stdout",
     "output_type": "stream",
     "text": [
      "Array: [nan  1.  4.  5.]\n",
      "Test element-wise for NaN: [ True False False False]\n"
     ]
    }
   ],
   "source": [
    "# NumPy program to test element-wise for NaN of a given array\n",
    "n1 = np.array([np.nan, 1,4,5])\n",
    "print(f\"Array: {n1}\")\n",
    "print(f\"Test element-wise for NaN: {np.isnan(n1)}\")"
   ]
  },
  {
   "cell_type": "code",
   "execution_count": 29,
   "id": "d839a3f9",
   "metadata": {
    "ExecuteTime": {
     "end_time": "2021-10-17T16:43:20.667078Z",
     "start_time": "2021-10-17T16:43:20.657161Z"
    }
   },
   "outputs": [
    {
     "name": "stdout",
     "output_type": "stream",
     "text": [
      "first array: [ 12  15  19  25 100]\n",
      "second array: [ 12.        15.01      19.        25.       100.000001]\n",
      "Comparison - equal: [ True False  True  True False]\n"
     ]
    }
   ],
   "source": [
    "# a NumPy program to create an element-wise comparison (equal) of two given arrays\n",
    "n1 = np.array([12, 15, 19, 25, 100])\n",
    "n2 = np.array([12, 15.01, 19, 25, 100.000001])\n",
    "print(f\"first array: {n1}\\nsecond array: {n2}\")\n",
    "print(f\"Comparison - equal: {np.equal(n1, n2)}\")"
   ]
  },
  {
   "cell_type": "code",
   "execution_count": 30,
   "id": "65789f70",
   "metadata": {
    "ExecuteTime": {
     "end_time": "2021-10-17T16:43:57.881577Z",
     "start_time": "2021-10-17T16:43:57.869074Z"
    }
   },
   "outputs": [
    {
     "name": "stdout",
     "output_type": "stream",
     "text": [
      "Array: [0 0 0 1]\n",
      "Are there non-zero numbers in the array? True\n",
      "---------------------------------------------------------------------------\n",
      "Array: [0 0 0 0]\n",
      "Are there zero numbers in the array? False\n"
     ]
    }
   ],
   "source": [
    "# a NumPy program to test whether any of the elements of a given array is non-zero\n",
    "n1 = np.array([0,0,0,1])\n",
    "print(f\"Array: {n1}\")\n",
    "print(f\"Are there non-zero numbers in the array? {np.any(n1)}\")\n",
    "print('-'*75)\n",
    "n2 = np.array([0,0,0,0])\n",
    "print(f\"Array: {n2}\")\n",
    "print(f\"Are there zero numbers in the array? {np.any(n2)}\")"
   ]
  },
  {
   "cell_type": "code",
   "execution_count": 31,
   "id": "0c3d8463",
   "metadata": {
    "ExecuteTime": {
     "end_time": "2021-10-17T16:44:28.386255Z",
     "start_time": "2021-10-17T16:44:28.377570Z"
    }
   },
   "outputs": [
    {
     "name": "stdout",
     "output_type": "stream",
     "text": [
      "Array: [nan inf  0.  1.  2.  4.]\n",
      "Test element-wise for positive or negative infinity: [False False  True  True  True  True]\n"
     ]
    }
   ],
   "source": [
    "#a NumPy Program to Test a given array element-wise for finiteness (not infinity or not a Number)\n",
    "n1 = np.array([np.nan, np.inf, 0, 1, 2, 4])\n",
    "print(f\"Array: {n1}\")\n",
    "print(f'Test element-wise for positive or negative infinity: {np.isfinite(n1)}')"
   ]
  },
  {
   "cell_type": "code",
   "execution_count": 5,
   "id": "329c64b7",
   "metadata": {
    "ExecuteTime": {
     "end_time": "2021-10-17T14:07:55.595378Z",
     "start_time": "2021-10-17T14:07:55.586404Z"
    }
   },
   "outputs": [
    {
     "name": "stdout",
     "output_type": "stream",
     "text": [
      "[0. 0. 0. 0. 0. 0. 0. 0. 0. 0.]\n",
      "[1. 1. 1. 1. 1. 1. 1. 1. 1. 1.]\n",
      "[5 5 5 5 5 5 5 5 5 5]\n"
     ]
    }
   ],
   "source": [
    "# a NumPy program to create an array of 10 zeros,10 ones, 10 fives\n",
    "zeros = np.zeros(10)\n",
    "print(zeros)\n",
    "ones = np.ones(10)\n",
    "print(ones)\n",
    "fives = np.full(10,5)\n",
    "print(fives)"
   ]
  },
  {
   "cell_type": "code",
   "execution_count": 7,
   "id": "0ad9676a",
   "metadata": {
    "ExecuteTime": {
     "end_time": "2021-10-17T16:30:25.556699Z",
     "start_time": "2021-10-17T16:30:25.533171Z"
    }
   },
   "outputs": [
    {
     "data": {
      "text/plain": [
       "array([30, 32, 34, 36, 38, 40, 42, 44, 46, 48, 50, 52, 54, 56, 58, 60, 62,\n",
       "       64, 66, 68])"
      ]
     },
     "execution_count": 7,
     "metadata": {},
     "output_type": "execute_result"
    }
   ],
   "source": [
    "#a NumPy program to create an array of all the even integers from 30 to 70.\n",
    "n1 = np.arange(30,70,2)\n",
    "n1"
   ]
  },
  {
   "cell_type": "code",
   "execution_count": 9,
   "id": "45a47867",
   "metadata": {
    "ExecuteTime": {
     "end_time": "2021-10-17T16:31:06.156274Z",
     "start_time": "2021-10-17T16:31:06.141599Z"
    }
   },
   "outputs": [
    {
     "data": {
      "text/plain": [
       "array([[1., 0., 0.],\n",
       "       [0., 1., 0.],\n",
       "       [0., 0., 1.]])"
      ]
     },
     "execution_count": 9,
     "metadata": {},
     "output_type": "execute_result"
    }
   ],
   "source": [
    "#a NumPy program to create a 3x3 identity matrix.\n",
    "n1 = np.identity(3)\n",
    "n1"
   ]
  },
  {
   "cell_type": "code",
   "execution_count": 10,
   "id": "c8f8805c",
   "metadata": {
    "ExecuteTime": {
     "end_time": "2021-10-17T16:32:29.461821Z",
     "start_time": "2021-10-17T16:32:29.439053Z"
    }
   },
   "outputs": [
    {
     "data": {
      "text/plain": [
       "array([-0.78334109,  1.77664069,  1.08548308, -2.13737505, -1.05253683,\n",
       "        0.20586953, -1.52558353,  0.6180635 , -0.52728438, -0.80639001,\n",
       "       -0.8232095 , -1.40818609,  0.7702935 , -0.63775614, -0.892363  ])"
      ]
     },
     "execution_count": 10,
     "metadata": {},
     "output_type": "execute_result"
    }
   ],
   "source": [
    "# a NumPy program to generate an array of 15 random numbers from a standard normal\n",
    "n1 = np.random.normal(0,1,15)\n",
    "n1"
   ]
  },
  {
   "cell_type": "code",
   "execution_count": 13,
   "id": "f896a46f",
   "metadata": {
    "ExecuteTime": {
     "end_time": "2021-10-17T16:33:54.917144Z",
     "start_time": "2021-10-17T16:33:54.902999Z"
    }
   },
   "outputs": [
    {
     "name": "stdout",
     "output_type": "stream",
     "text": [
      "[16 17 18 19 20 21 22 23 24 25 26 27 28 29 30 31 32 33 34 35 36 37 38 39\n",
      " 40 41 42 43 44 45 46 47 48 49 50 51 52 53]\n"
     ]
    }
   ],
   "source": [
    "#  a NumPy program to create a vector with values ranging from 15 to 55 and print all values except the first and last\n",
    "n1 = np.arange(15,55)\n",
    "print(n1[1:-1])"
   ]
  },
  {
   "cell_type": "code",
   "execution_count": 16,
   "id": "97f1e184",
   "metadata": {
    "ExecuteTime": {
     "end_time": "2021-10-17T16:36:03.848678Z",
     "start_time": "2021-10-17T16:36:03.834447Z"
    }
   },
   "outputs": [
    {
     "name": "stdout",
     "output_type": "stream",
     "text": [
      "Each element in the array: \n",
      "0 1 2 3 4 5 6 7 8 9 10 11 "
     ]
    }
   ],
   "source": [
    "#a NumPy program to create a 3X4 array using and iterate over it\n",
    "n1 = np.arange(0,12).reshape(3,4)\n",
    "print('Each element in the array: ')\n",
    "for i in np.nditer(n1):\n",
    "    print(i, end=' ')"
   ]
  },
  {
   "cell_type": "code",
   "execution_count": 23,
   "id": "76352eed",
   "metadata": {
    "ExecuteTime": {
     "end_time": "2021-10-17T16:39:20.566625Z",
     "start_time": "2021-10-17T16:39:20.556018Z"
    }
   },
   "outputs": [
    {
     "data": {
      "text/plain": [
       "array([ 5., 10., 15., 20., 25., 30., 35., 40., 45., 50.])"
      ]
     },
     "execution_count": 23,
     "metadata": {},
     "output_type": "execute_result"
    }
   ],
   "source": [
    "#a Numpy program to create a vector of length 10 with values distributed between 5 and 50\n",
    "n1 = np.linspace(5,50,10)\n",
    "n1"
   ]
  },
  {
   "cell_type": "code",
   "execution_count": 25,
   "id": "ba022108",
   "metadata": {
    "ExecuteTime": {
     "end_time": "2021-10-17T16:41:07.691174Z",
     "start_time": "2021-10-17T16:41:07.680954Z"
    }
   },
   "outputs": [
    {
     "name": "stdout",
     "output_type": "stream",
     "text": [
      "[  0   1   2   3   4   5   6   7   8  -9 -10 -11 -12 -13 -14 -15  16  17\n",
      "  18  19  20]\n"
     ]
    }
   ],
   "source": [
    "#a NumPy program to create a vector with values from 0 to 20 and change the sign of the numbers in the range from 9 to 15\n",
    "n1 = np.arange(21)\n",
    "n1[(n1>=9) & (n1<=15)] *= -1\n",
    "print(n1)"
   ]
  },
  {
   "cell_type": "code",
   "execution_count": 33,
   "id": "4784075d",
   "metadata": {
    "ExecuteTime": {
     "end_time": "2021-10-17T17:13:06.703121Z",
     "start_time": "2021-10-17T17:13:06.687161Z"
    }
   },
   "outputs": [
    {
     "data": {
      "text/plain": [
       "array([[10, 11, 12, 13],\n",
       "       [14, 15, 16, 17],\n",
       "       [18, 19, 20, 21]])"
      ]
     },
     "execution_count": 33,
     "metadata": {},
     "output_type": "execute_result"
    }
   ],
   "source": [
    "#a NumPy program to create a 3x4 matrix filled with values from 10 to 21\n",
    "n1 = np.arange(10,22).reshape(3,4)\n",
    "n1"
   ]
  },
  {
   "cell_type": "code",
   "execution_count": 34,
   "id": "a411c616",
   "metadata": {
    "ExecuteTime": {
     "end_time": "2021-10-17T17:15:23.047920Z",
     "start_time": "2021-10-17T17:15:23.034393Z"
    }
   },
   "outputs": [
    {
     "data": {
      "text/plain": [
       "array([[1, 0, 0, 0, 0],\n",
       "       [0, 2, 0, 0, 0],\n",
       "       [0, 0, 3, 0, 0],\n",
       "       [0, 0, 0, 4, 0],\n",
       "       [0, 0, 0, 0, 5]])"
      ]
     },
     "execution_count": 34,
     "metadata": {},
     "output_type": "execute_result"
    }
   ],
   "source": [
    "# a NumPy program to create a 5x5 zero matrix with elements on the main diagonal equal to 1, 2, 3, 4, 5\n",
    "n1 = np.diag([1,2,3,4,5])\n",
    "n1"
   ]
  },
  {
   "cell_type": "code",
   "execution_count": 44,
   "id": "3e59e4bf",
   "metadata": {
    "ExecuteTime": {
     "end_time": "2021-10-17T17:43:43.481250Z",
     "start_time": "2021-10-17T17:43:43.472232Z"
    }
   },
   "outputs": [
    {
     "name": "stdout",
     "output_type": "stream",
     "text": [
      "Array: \n",
      "[[1 1]\n",
      " [1 1]]\n",
      "Sum of all numbers: 4\n",
      "Sum of each column: [2 2]\n",
      "Sum of each row: [2 2]\n"
     ]
    }
   ],
   "source": [
    "#a NumPy program to compute sum of all elements, sum of each column and sum of each row of a given array\n",
    "n1 = np.random.randint(1,5,(2,2))\n",
    "print(f'Array: \\n{n1}')\n",
    "print(f'Sum of all numbers: {np.sum(n1)}')\n",
    "print(f'Sum of each column: {np.sum(n1, axis=0)}')\n",
    "print(f'Sum of each row: {np.sum(n1, axis=1)}')"
   ]
  },
  {
   "cell_type": "code",
   "execution_count": 48,
   "id": "bde3f059",
   "metadata": {
    "ExecuteTime": {
     "end_time": "2021-10-17T17:47:32.795759Z",
     "start_time": "2021-10-17T17:47:32.781304Z"
    }
   },
   "outputs": [
    {
     "name": "stdout",
     "output_type": "stream",
     "text": [
      "first array: \n",
      "[15 17]\n",
      "second array: \n",
      "[12 10]\n",
      "Inner product of the vectors: \n",
      "350\n"
     ]
    }
   ],
   "source": [
    "# a NumPy to Compute the inner product of two given vectors\n",
    "n1 = np.array([15,17])\n",
    "n2 = np.array([12,10])\n",
    "print(f\"first array: \\n{n1}\\nsecond array: \\n{n2}\")\n",
    "print(f\"Inner product of the vectors: \\n{np.dot(n1, n2)}\")"
   ]
  },
  {
   "cell_type": "code",
   "execution_count": 53,
   "id": "64c7829e",
   "metadata": {
    "ExecuteTime": {
     "end_time": "2021-10-17T17:51:23.054322Z",
     "start_time": "2021-10-17T17:51:23.036988Z"
    }
   },
   "outputs": [
    {
     "name": "stdout",
     "output_type": "stream",
     "text": [
      "Vector: [1 1 0]\n",
      "Matrix:\n",
      "[[ 1  2  3]\n",
      " [ 4  5  6]\n",
      " [ 7  8  9]\n",
      " [10 11 12]]\n",
      "\n",
      "After adding the vector v to each row of the matrix m:\n",
      "[[ 2  3  3]\n",
      " [ 5  6  6]\n",
      " [ 8  9  9]\n",
      " [11 12 12]]\n"
     ]
    }
   ],
   "source": [
    "#a NumPy program to add a vector to each row of a given matrix\n",
    "m = np.array([[1,2,3], [4,5,6], [7,8,9], [10, 11, 12]])\n",
    "v = np.array([1, 1, 0])\n",
    "print(f\"Vector: {v}\\nMatrix:\\n{m}\\n\")\n",
    "result = np.empty_like(m)\n",
    "for i in range(len(m)):\n",
    "    result[i, :] = m[i, :] + v\n",
    "print(f\"After adding the vector v to each row of the matrix m:\\n{result}\")"
   ]
  },
  {
   "cell_type": "code",
   "execution_count": 63,
   "id": "cfb25503",
   "metadata": {
    "ExecuteTime": {
     "end_time": "2021-10-17T18:02:01.439202Z",
     "start_time": "2021-10-17T18:02:01.423938Z"
    }
   },
   "outputs": [
    {
     "name": "stdout",
     "output_type": "stream",
     "text": [
      "Loading the numpy array file:\n",
      "\n",
      "[[ 0.  1.  2.  3.]\n",
      " [ 4.  5.  6.  7.]\n",
      " [ 8.  9. 10. 11.]]\n"
     ]
    }
   ],
   "source": [
    "#a NumPy program to Save a given array to a text file and load it\n",
    "n1 = np.arange(12).reshape(3,4)\n",
    "columns = 'col1 col2 col3'\n",
    "np.savetxt('array.txt',n1,fmt='%d', header=columns)\n",
    "load_file = np.loadtxt('array.txt')\n",
    "print(f\"Loading the numpy array file:\\n\\n{load_file}\")"
   ]
  },
  {
   "cell_type": "code",
   "execution_count": 67,
   "id": "c123fcbe",
   "metadata": {
    "ExecuteTime": {
     "end_time": "2021-10-17T18:09:34.289446Z",
     "start_time": "2021-10-17T18:09:34.279345Z"
    }
   },
   "outputs": [
    {
     "name": "stdout",
     "output_type": "stream",
     "text": [
      "Type of array 1 <class 'list'>\n",
      "type of array 2 <class 'list'>\n",
      "True\n"
     ]
    }
   ],
   "source": [
    "#a NumPy Convert a given list into an array, then again convert it into a list\n",
    "n1 = [[1, 2], [3, 4]]\n",
    "x = np.array(n1)\n",
    "n2 = x.tolist()\n",
    "print(f\"Type of array 1 {type(n1)}\\ntype of array 2 {type(n2)}\")\n",
    "print(n1 == n2)"
   ]
  },
  {
   "cell_type": "code",
   "execution_count": 82,
   "id": "49aa3177",
   "metadata": {
    "ExecuteTime": {
     "end_time": "2021-10-17T18:15:43.913400Z",
     "start_time": "2021-10-17T18:15:43.635268Z"
    }
   },
   "outputs": [
    {
     "name": "stdout",
     "output_type": "stream",
     "text": [
      "Plot the points using matplotlib:\n"
     ]
    },
    {
     "data": {
      "image/png": "[encoded data removed]",
      "text/plain": [
       "<Figure size 432x288 with 1 Axes>"
      ]
     },
     "metadata": {
      "needs_background": "light"
     },
     "output_type": "display_data"
    }
   ],
   "source": [
    "#a NumPy program to Compute the x and y coordinates for points on a sine curve and plot the points using matplotlib\n",
    "%matplotlib inline\n",
    "import matplotlib.pyplot as plt\n",
    "# Compute the x and y coordinates for points on a sine curve\n",
    "x = np.arange(0, 3 * np.pi, 0.2)\n",
    "y = np.sin(x)\n",
    "print(\"Plot the points using matplotlib:\")\n",
    "plt.plot(x, y, 'r-o', markeredgecolor = 'blue')\n",
    "plt.show()"
   ]
  },
  {
   "cell_type": "code",
   "execution_count": 86,
   "id": "3ed9bbf9",
   "metadata": {
    "ExecuteTime": {
     "end_time": "2021-10-17T18:22:06.898655Z",
     "start_time": "2021-10-17T18:22:06.884206Z"
    }
   },
   "outputs": [
    {
     "name": "stdout",
     "output_type": "stream",
     "text": [
      "Check if there is a missing values(NAN) or not:\n",
      "[[False False False  True]\n",
      " [False False  True False]\n",
      " [False  True False False]\n",
      " [ True  True  True  True]]\n"
     ]
    }
   ],
   "source": [
    "arrays = np.array([[1,5,6,np.nan], [8,9,np.nan,12], [14,np.nan,7,45], [np.nan, np.nan, np.nan, np.nan]])\n",
    "print(f\"Check if there is a missing values(NAN) or not:\\n{np.isnan(arrays)}\")"
   ]
  },
  {
   "cell_type": "code",
   "execution_count": 90,
   "id": "e64ebef3",
   "metadata": {
    "ExecuteTime": {
     "end_time": "2021-10-17T18:29:24.656144Z",
     "start_time": "2021-10-17T18:29:24.641532Z"
    }
   },
   "outputs": [
    {
     "name": "stdout",
     "output_type": "stream",
     "text": [
      "Array before replacing:\n",
      "[[ 1  2  3  4]\n",
      " [ 5  6  7  8]\n",
      " [ 9 10 11 12]\n",
      " [13 14 15 16]]\n",
      "\n",
      "Array after replacing:\n",
      "[[13 14 15 16]\n",
      " [ 9 10 11 12]\n",
      " [ 5  6  7  8]\n",
      " [ 1  2  3  4]]\n"
     ]
    }
   ],
   "source": [
    "#a Numpy program to create a new array from a given array swapping first and last rows\n",
    "n1 = np.arange(1,17).reshape(4,4)\n",
    "print(f'Array before replacing:\\n{n1}')\n",
    "n2 = n1[::-1]\n",
    "print(f\"\\nArray after replacing:\\n{n2}\")"
   ]
  },
  {
   "cell_type": "code",
   "execution_count": null,
   "id": "798fb542",
   "metadata": {},
   "outputs": [],
   "source": []
  }
 ],
 "metadata": {
  "kernelspec": {
   "display_name": "Python 3",
   "language": "python",
   "name": "python3"
  },
  "language_info": {
   "codemirror_mode": {
    "name": "ipython",
    "version": 3
   },
   "file_extension": ".py",
   "mimetype": "text/x-python",
   "name": "python",
   "nbconvert_exporter": "python",
   "pygments_lexer": "ipython3",
   "version": "3.8.8"
  },
  "toc": {
   "base_numbering": 1,
   "nav_menu": {},
   "number_sections": true,
   "sideBar": true,
   "skip_h1_title": false,
   "title_cell": "Table of Contents",
   "title_sidebar": "Contents",
   "toc_cell": false,
   "toc_position": {},
   "toc_section_display": true,
   "toc_window_display": false
  }
 },
 "nbformat": 4,
 "nbformat_minor": 5
}
